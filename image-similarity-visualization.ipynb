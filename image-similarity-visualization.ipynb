{
 "cells": [
  {
   "cell_type": "code",
   "execution_count": 2,
   "metadata": {},
   "outputs": [],
   "source": [
    "import os"
   ]
  },
  {
   "cell_type": "code",
   "execution_count": 6,
   "metadata": {},
   "outputs": [],
   "source": [
    "import cv2\n",
    "import numpy as np\n",
    "\n",
    "def get_image(fname):\n",
    "    img = cv2.cvtColor(cv2.imread(fname), cv2.COLOR_BGR2RGB)\n",
    "    if img is None:\n",
    "         return None\n",
    "    img = cv2.resize(img, (224, 224))\n",
    "    img = img[np.newaxis, :]\n",
    "    \n",
    "    return img"
   ]
  },
  {
   "cell_type": "code",
   "execution_count": 7,
   "metadata": {},
   "outputs": [],
   "source": [
    "import glob\n",
    "import os\n",
    "\n",
    "def process_files(folder_name, start_index=0):\n",
    "    \n",
    "    products = []\n",
    "    index = start_index\n",
    "    dim = 2048\n",
    "    xb = np.empty(shape=[0, dim], dtype=np.float32)\n",
    "    \n",
    "    for imgfolderpath in glob.glob(folder_name + '/*'):\n",
    "        productTitle = os.path.basename(imgfolderpath)\n",
    "    \n",
    "        for file in glob.glob(imgfolderpath + '/*'):\n",
    "            try:\n",
    "                img = get_image(file)\n",
    "                product = {}\n",
    "                product['productTitle'] = productTitle\n",
    "                product['imageFileName'] = file\n",
    "\n",
    "                # extract features\n",
    "                features_batch = model.predict([img])\n",
    "                features = features_batch[0]\n",
    "\n",
    "                # the Knn algorithm we'll use requires float32 rather than the default float64\n",
    "                xb = np.append(xb, [features.astype(np.float32)], axis=0)\n",
    "\n",
    "                products.append(product)\n",
    "                index += 1\n",
    "            except:\n",
    "                print(\"Something went wrong with the file: \" + file)            \n",
    "    return (products, xb)"
   ]
  },
  {
   "cell_type": "code",
   "execution_count": 4,
   "metadata": {},
   "outputs": [],
   "source": [
    "if not os.path.exists('./dataset-resized'):\n",
    "    !curl https://raw.githubusercontent.com/garythung/trashnet/master/data/dataset-resized.zip | jar xv"
   ]
  },
  {
   "cell_type": "code",
   "execution_count": 5,
   "metadata": {},
   "outputs": [
    {
     "name": "stderr",
     "output_type": "stream",
     "text": [
      "Using TensorFlow backend.\n"
     ]
    },
    {
     "name": "stdout",
     "output_type": "stream",
     "text": [
      "WARNING:tensorflow:From C:\\Users\\Usrer\\Anaconda3\\envs\\tf_gpu\\lib\\site-packages\\tensorflow_core\\python\\ops\\resource_variable_ops.py:1630: calling BaseResourceVariable.__init__ (from tensorflow.python.ops.resource_variable_ops) with constraint is deprecated and will be removed in a future version.\n",
      "Instructions for updating:\n",
      "If using Keras pass *_constraint arguments to layers.\n",
      "WARNING:tensorflow:From C:\\Users\\Usrer\\Anaconda3\\envs\\tf_gpu\\lib\\site-packages\\keras\\backend\\tensorflow_backend.py:4070: The name tf.nn.max_pool is deprecated. Please use tf.nn.max_pool2d instead.\n",
      "\n"
     ]
    }
   ],
   "source": [
    "from keras.applications.resnet50 import ResNet50\n",
    "model = ResNet50(weights='imagenet', include_top=False, input_shape=(224, 224, 3), pooling=\"avg\")"
   ]
  },
  {
   "cell_type": "code",
   "execution_count": 8,
   "metadata": {},
   "outputs": [
    {
     "name": "stdout",
     "output_type": "stream",
     "text": [
      "WARNING:tensorflow:From C:\\Users\\Usrer\\Anaconda3\\envs\\tf_gpu\\lib\\site-packages\\keras\\backend\\tensorflow_backend.py:422: The name tf.global_variables is deprecated. Please use tf.compat.v1.global_variables instead.\n",
      "\n"
     ]
    },
    {
     "data": {
      "text/plain": [
       "'3d-scatter.html'"
      ]
     },
     "execution_count": 8,
     "metadata": {},
     "output_type": "execute_result"
    }
   ],
   "source": [
    "products, train_features = process_files('./dataset-resized')\n",
    "\n",
    "import sklearn\n",
    "import sklearn.preprocessing\n",
    "\n",
    "train_features = sklearn.preprocessing.normalize(train_features)\n",
    "\n",
    "from sklearn.manifold import TSNE\n",
    "tsne = TSNE(n_components=3).fit_transform(train_features)\n",
    "\n",
    "import pandas as pd\n",
    "\n",
    "df = pd.DataFrame(products)\n",
    "texts = df[\"imageFileName\"]\n",
    "\n",
    "li, uniques = pd.factorize(df['productTitle'])\n",
    "\n",
    "li = (li * 99) // (len(uniques) - 1)\n",
    "\n",
    "import plotly.graph_objs as go\n",
    "from plotly.offline import plot\n",
    "\n",
    "scatter = go.Scatter3d(\n",
    "    x=tsne[:,0],\n",
    "    y=tsne[:,1],\n",
    "    z=tsne[:,2],\n",
    "    mode='markers',\n",
    "    text=texts,\n",
    "    marker=dict(\n",
    "        size=8,\n",
    "        color=li,                # set color to an array/list of desired values\n",
    "        colorscale='Viridis',   # choose a colorscale\n",
    "        opacity=0.8\n",
    "    ))\n",
    "\n",
    "fig = go.Figure(data=[scatter])\n",
    "\n",
    "plot(fig, filename='3d-scatter.html')\n"
   ]
  },
  {
   "cell_type": "code",
   "execution_count": null,
   "metadata": {},
   "outputs": [],
   "source": []
  }
 ],
 "metadata": {
  "kernelspec": {
   "display_name": "Python 3",
   "language": "python",
   "name": "python3"
  },
  "language_info": {
   "codemirror_mode": {
    "name": "ipython",
    "version": 3
   },
   "file_extension": ".py",
   "mimetype": "text/x-python",
   "name": "python",
   "nbconvert_exporter": "python",
   "pygments_lexer": "ipython3",
   "version": "3.7.7"
  }
 },
 "nbformat": 4,
 "nbformat_minor": 4
}
